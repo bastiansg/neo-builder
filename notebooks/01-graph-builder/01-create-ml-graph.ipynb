{
 "cells": [
  {
   "cell_type": "code",
   "execution_count": null,
   "metadata": {},
   "outputs": [],
   "source": [
    "import pandas as pd\n",
    "\n",
    "from rich.pretty import pprint\n",
    "\n",
    "from neo_builder.db import Neo4jConnector\n",
    "from neo_builder.build import GraphBuilder, GraphBuildMap\n",
    "\n",
    "from neo_builder.graphs.ml_small.rels import MovieGenreRelBuilder\n",
    "from neo_builder.graphs.ml_small.nodes import MovieNodeBuilder, GenreNodeBuilder"
   ]
  },
  {
   "cell_type": "code",
   "execution_count": null,
   "metadata": {},
   "outputs": [],
   "source": [
    "def get_data_items(csv_path: str) -> list[dict]:\n",
    "    df = pd.read_csv(csv_path)\n",
    "    return df.to_dict(orient=\"records\")"
   ]
  },
  {
   "cell_type": "code",
   "execution_count": null,
   "metadata": {},
   "outputs": [],
   "source": [
    "movie_data_items = get_data_items(\n",
    "    csv_path=\"/resources/datasets/ml-latest-small/movies.csv\"\n",
    ")\n",
    "\n",
    "print(len(movie_data_items))\n",
    "pprint(movie_data_items[:5])"
   ]
  },
  {
   "cell_type": "code",
   "execution_count": null,
   "metadata": {},
   "outputs": [],
   "source": [
    "constraints = [\n",
    "    {\n",
    "        \"constraint_name\": \"movie_id\",\n",
    "        \"node_type\": \"Movie\",\n",
    "        \"node_property\": \"node_id\",\n",
    "    },\n",
    "    {\n",
    "        \"constraint_name\": \"genre_id\",\n",
    "        \"node_type\": \"Genre\",\n",
    "        \"node_property\": \"node_id\",\n",
    "    },\n",
    "]"
   ]
  },
  {
   "cell_type": "code",
   "execution_count": null,
   "metadata": {},
   "outputs": [],
   "source": [
    "# build_from_csv = True\n",
    "build_from_csv = False\n",
    "neo_connector = Neo4jConnector()\n",
    "build_map = GraphBuildMap(\n",
    "    **{\n",
    "        \"node_builders\": [\n",
    "            MovieNodeBuilder(\n",
    "                neo_connector=neo_connector,\n",
    "                data_items=movie_data_items,\n",
    "                build_from_csv=False,\n",
    "            ),\n",
    "            GenreNodeBuilder(\n",
    "                neo_connector=neo_connector,\n",
    "                data_items=movie_data_items,\n",
    "                build_from_csv=False,\n",
    "            ),\n",
    "        ],\n",
    "        \"rel_builders\": [\n",
    "            MovieGenreRelBuilder(\n",
    "                neo_connector,\n",
    "                data_items=movie_data_items,\n",
    "                build_from_csv=False,\n",
    "            ),\n",
    "        ],\n",
    "    }\n",
    ")\n"
   ]
  },
  {
   "cell_type": "code",
   "execution_count": null,
   "metadata": {},
   "outputs": [],
   "source": [
    "builder = GraphBuilder(\n",
    "    neo_connector=neo_connector,\n",
    "    build_map=build_map,\n",
    "    constraints=constraints,\n",
    ")"
   ]
  },
  {
   "cell_type": "code",
   "execution_count": null,
   "metadata": {},
   "outputs": [],
   "source": [
    "builder.build()"
   ]
  },
  {
   "cell_type": "code",
   "execution_count": null,
   "metadata": {},
   "outputs": [],
   "source": []
  }
 ],
 "metadata": {
  "kernelspec": {
   "display_name": "Python 3",
   "language": "python",
   "name": "python3"
  },
  "language_info": {
   "codemirror_mode": {
    "name": "ipython",
    "version": 3
   },
   "file_extension": ".py",
   "mimetype": "text/x-python",
   "name": "python",
   "nbconvert_exporter": "python",
   "pygments_lexer": "ipython3",
   "version": "3.12.3"
  }
 },
 "nbformat": 4,
 "nbformat_minor": 2
}
